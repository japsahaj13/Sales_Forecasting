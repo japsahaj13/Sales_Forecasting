{
 "cells": [
  {
   "cell_type": "code",
   "execution_count": 238,
   "metadata": {},
   "outputs": [
    {
     "name": "stderr",
     "output_type": "stream",
     "text": [
      "/var/folders/ww/qjh9zpks52d4vsjxc4bg379h0000gn/T/ipykernel_84940/3293422513.py:16: FutureWarning: The argument 'infer_datetime_format' is deprecated and will be removed in a future version. A strict version of it is now the default, see https://pandas.pydata.org/pdeps/0004-consistent-to-datetime-parsing.html. You can safely remove this argument.\n",
      "  store_sales = pd.read_csv(\n",
      "/var/folders/ww/qjh9zpks52d4vsjxc4bg379h0000gn/T/ipykernel_84940/3293422513.py:31: FutureWarning: The default of observed=False is deprecated and will be changed to True in a future version of pandas. Pass observed=False to retain current behavior or observed=True to adopt the future default and silence this warning.\n",
      "  store_sales\n"
     ]
    }
   ],
   "source": [
    "import matplotlib.pyplot as plt\n",
    "import pandas as pd\n",
    "from sklearn.linear_model import LinearRegression\n",
    "from sklearn.preprocessing import LabelEncoder\n",
    "from statsmodels.tsa.deterministic import DeterministicProcess, CalendarFourier\n",
    "from xgboost import XGBRegressor\n",
    "from sklearn.svm import SVR\n",
    "from sklearn.model_selection import train_test_split\n",
    "from sklearn.metrics import mean_squared_error\n",
    "import numpy as np\n",
    "from pathlib import Path\n",
    "\n",
    "comp_dir = Path('/Users/rishav/Documents/Sem_4/Machine_learning and Pattern_recognition/store-sales-time-series-forecasting')\n",
    "data_dir = Path(\"../input/ts-course-data\")\n",
    "\n",
    "store_sales = pd.read_csv(\n",
    "    comp_dir / 'train.csv',\n",
    "    usecols=['store_nbr', 'family', 'date', 'sales', 'onpromotion'],\n",
    "    dtype={\n",
    "        'store_nbr': 'category',\n",
    "        'family': 'category',\n",
    "        'sales': 'float32',\n",
    "    },\n",
    "    parse_dates=['date'],\n",
    "    infer_datetime_format=True,\n",
    ")\n",
    "store_sales['date'] = store_sales.date.dt.to_period('D')\n",
    "store_sales = store_sales.set_index(['store_nbr', 'family', 'date']).sort_index()\n",
    "\n",
    "family_sales = (\n",
    "    store_sales\n",
    "    .groupby(['family', 'date'])\n",
    "    .mean()\n",
    "    .unstack('family')\n",
    "    .loc['2017']\n",
    ")\n"
   ]
  },
  {
   "cell_type": "code",
   "execution_count": 239,
   "metadata": {},
   "outputs": [],
   "source": [
    "\n",
    "class BoostedHybrid:\n",
    "    def __init__(self, model_1, model_2):\n",
    "        self.model_1 = model_1\n",
    "        self.model_2 = model_2\n",
    "        self.y_columns = None  \n"
   ]
  },
  {
   "cell_type": "code",
   "execution_count": 240,
   "metadata": {},
   "outputs": [],
   "source": [
    "def fit(self, X_1, X_2, y):\n",
    "    self.model_1.fit(X_1, y)\n",
    "    y_fit = pd.DataFrame(\n",
    "        self.model_1.predict(X_1), \n",
    "        index=X_1.index, columns=y.columns,\n",
    "    )\n",
    "\n",
    "    y_resid = y - y_fit\n",
    "    y_resid = y_resid.stack().squeeze() \n",
    "\n",
    "    self.model_2.fit(X_2, y_resid)\n",
    "\n",
    "    self.y_columns = y.columns\n",
    "    self.y_fit = y_fit\n",
    "    self.y_resid = y_resid\n",
    "\n",
    "\n",
    "BoostedHybrid.fit = fit"
   ]
  },
  {
   "cell_type": "code",
   "execution_count": 241,
   "metadata": {},
   "outputs": [],
   "source": [
    "\n",
    "def predict(self, X_1, X_2):\n",
    "    y_pred = pd.DataFrame(\n",
    "        self.model_1.predict(X_1), \n",
    "        index=X_1.index, columns=self.y_columns,\n",
    "    )\n",
    "    y_pred = y_pred.stack().squeeze() \n",
    "\n",
    "    y_pred += self.model_2.predict(X_2)\n",
    "    return y_pred.unstack()\n",
    "\n",
    "\n",
    "BoostedHybrid.predict = predict"
   ]
  },
  {
   "cell_type": "code",
   "execution_count": 242,
   "metadata": {},
   "outputs": [
    {
     "name": "stderr",
     "output_type": "stream",
     "text": [
      "/Users/rishav/Library/Python/3.9/lib/python/site-packages/statsmodels/tsa/deterministic.py:569: FutureWarning: 'M' is deprecated and will be removed in a future version, please use 'ME' instead.\n",
      "  index = pd.date_range(\"2020-01-01\", freq=freq, periods=1)\n",
      "/var/folders/ww/qjh9zpks52d4vsjxc4bg379h0000gn/T/ipykernel_84940/4236253779.py:17: FutureWarning: The previous implementation of stack is deprecated and will be removed in a future version of pandas. See the What's New notes for pandas 2.1.0 for details. Specify future_stack=True to adopt the new implementation and silence this warning.\n",
      "  X_2 = family_sales.drop('sales', axis=1).stack()  # onpromotion feature\n"
     ]
    }
   ],
   "source": [
    "y = store_sales.unstack(['store_nbr', 'family']).loc[\"2017\"]\n",
    "\n",
    "\n",
    "fourier = CalendarFourier(freq='M', order=4)\n",
    "dp = DeterministicProcess(\n",
    "    index=y.index,\n",
    "    constant=True,\n",
    "    order=1,\n",
    "    seasonal=True,\n",
    "    additional_terms=[fourier],\n",
    "    drop=True,\n",
    ")\n",
    "X_1= dp.in_sample()\n",
    "X_1['NewYear'] = (X_1.index.dayofyear == 1)\n",
    "X_2 = family_sales.drop('sales', axis=1).stack()  \n",
    "\n",
    "le = LabelEncoder()  \n",
    "X_2 = X_2.reset_index('family')\n",
    "X_2['family'] = le.fit_transform(X_2['family'])\n",
    "\n",
    "X_2[\"day\"] = X_2.index.day "
   ]
  },
  {
   "cell_type": "code",
   "execution_count": 243,
   "metadata": {},
   "outputs": [
    {
     "name": "stderr",
     "output_type": "stream",
     "text": [
      "/var/folders/ww/qjh9zpks52d4vsjxc4bg379h0000gn/T/ipykernel_84940/1152533386.py:13: FutureWarning: The previous implementation of stack is deprecated and will be removed in a future version of pandas. See the What's New notes for pandas 2.1.0 for details. Specify future_stack=True to adopt the new implementation and silence this warning.\n",
      "  y_resid = y_resid.stack().squeeze() # wide to long\n"
     ]
    },
    {
     "name": "stdout",
     "output_type": "stream",
     "text": [
      "Root Mean Squared Logarithmic Error (RMSLE): 0.015034277278826332\n"
     ]
    },
    {
     "name": "stderr",
     "output_type": "stream",
     "text": [
      "/var/folders/ww/qjh9zpks52d4vsjxc4bg379h0000gn/T/ipykernel_84940/770704939.py:7: FutureWarning: The previous implementation of stack is deprecated and will be removed in a future version of pandas. See the What's New notes for pandas 2.1.0 for details. Specify future_stack=True to adopt the new implementation and silence this warning.\n",
      "  y_pred = y_pred.stack().squeeze()  # wide to long\n"
     ]
    }
   ],
   "source": [
    "model = BoostedHybrid(\n",
    "    model_1=XGBRegressor(),\n",
    "    model_2=LinearRegression(),\n",
    ")\n",
    "model.fit(X_1, X_2, y)\n",
    "\n",
    "y_pred = model.predict(X_1, X_2)\n",
    "y_pred = y_pred.clip(0.0)\n",
    "actual_sales = y.values.flatten()\n",
    "predicted_sales = y_pred.values.flatten()\n",
    "\n",
    "squared_log_diff = np.square(np.log1p(actual_sales) - np.log1p(predicted_sales))\n",
    "\n",
    "mean_squared_log_diff = np.mean(squared_log_diff)\n",
    "\n",
    "rmsle = np.sqrt(mean_squared_log_diff)\n",
    "\n",
    "print(f\"Root Mean Squared Logarithmic Error (RMSLE): {rmsle}\")\n"
   ]
  },
  {
   "cell_type": "code",
   "execution_count": 244,
   "metadata": {},
   "outputs": [
    {
     "name": "stderr",
     "output_type": "stream",
     "text": [
      "/var/folders/ww/qjh9zpks52d4vsjxc4bg379h0000gn/T/ipykernel_84940/1245204083.py:1: FutureWarning: The argument 'infer_datetime_format' is deprecated and will be removed in a future version. A strict version of it is now the default, see https://pandas.pydata.org/pdeps/0004-consistent-to-datetime-parsing.html. You can safely remove this argument.\n",
      "  test_data = pd.read_csv(\n",
      "/var/folders/ww/qjh9zpks52d4vsjxc4bg379h0000gn/T/ipykernel_84940/1245204083.py:19: FutureWarning: The default of observed=False is deprecated and will be changed to True in a future version of pandas. Pass observed=False to retain current behavior or observed=True to adopt the future default and silence this warning.\n",
      "  X_2_test\n",
      "/var/folders/ww/qjh9zpks52d4vsjxc4bg379h0000gn/T/ipykernel_84940/1245204083.py:25: FutureWarning: The previous implementation of stack is deprecated and will be removed in a future version of pandas. See the What's New notes for pandas 2.1.0 for details. Specify future_stack=True to adopt the new implementation and silence this warning.\n",
      "  X_2 = family_sales.stack()  # onpromotion feature\n",
      "/var/folders/ww/qjh9zpks52d4vsjxc4bg379h0000gn/T/ipykernel_84940/770704939.py:7: FutureWarning: The previous implementation of stack is deprecated and will be removed in a future version of pandas. See the What's New notes for pandas 2.1.0 for details. Specify future_stack=True to adopt the new implementation and silence this warning.\n",
      "  y_pred = y_pred.stack().squeeze()  # wide to long\n"
     ]
    }
   ],
   "source": [
    "\n",
    "test_data = pd.read_csv(\n",
    "    comp_dir / 'test.csv',\n",
    "    usecols=['store_nbr', 'family', 'date', 'onpromotion'],\n",
    "    dtype={\n",
    "        'store_nbr': 'category',\n",
    "        'family': 'category',\n",
    "    },\n",
    "    parse_dates=['date'],\n",
    "    infer_datetime_format=True,\n",
    ")\n",
    "\n",
    "X_1_test = dp.out_of_sample(steps=16)\n",
    "X_1_test['NewYear'] = (X_1_test.index.dayofyear == 1)\n",
    "\n",
    "X_2_test = test_data.copy()\n",
    "X_2_test['date'] = X_2_test.date.dt.to_period('D')\n",
    "X_2_test = X_2_test.set_index(['store_nbr', 'family', 'date']).sort_index()\n",
    "family_sales = (\n",
    "    X_2_test\n",
    "    .groupby(['family', 'date'])\n",
    "    .mean()\n",
    "    .unstack('family')\n",
    "    .loc['2017']\n",
    ")\n",
    "X_2 = family_sales.stack()  \n",
    "le = LabelEncoder()  \n",
    "X_2 = X_2.reset_index('family')\n",
    "X_2['family'] = le.fit_transform(X_2['family'])\n",
    "\n",
    "X_2[\"day\"] = X_2.index.day \n",
    "\n",
    "y_pred_test = model.predict(X_1_test, X_2)\n",
    "y_pred_test = y_pred_test.clip(0.0)  \n",
    "\n",
    "\n"
   ]
  },
  {
   "cell_type": "code",
   "execution_count": 245,
   "metadata": {},
   "outputs": [
    {
     "name": "stderr",
     "output_type": "stream",
     "text": [
      "/var/folders/ww/qjh9zpks52d4vsjxc4bg379h0000gn/T/ipykernel_84940/4222286781.py:2: FutureWarning: The argument 'infer_datetime_format' is deprecated and will be removed in a future version. A strict version of it is now the default, see https://pandas.pydata.org/pdeps/0004-consistent-to-datetime-parsing.html. You can safely remove this argument.\n",
      "  df_test = pd.read_csv(\n"
     ]
    },
    {
     "name": "stdout",
     "output_type": "stream",
     "text": [
      "('sales', '19', 'BEVERAGES')\n"
     ]
    },
    {
     "name": "stderr",
     "output_type": "stream",
     "text": [
      "/var/folders/ww/qjh9zpks52d4vsjxc4bg379h0000gn/T/ipykernel_84940/4222286781.py:13: FutureWarning: The previous implementation of stack is deprecated and will be removed in a future version of pandas. See the What's New notes for pandas 2.1.0 for details. Specify future_stack=True to adopt the new implementation and silence this warning.\n",
      "  y_submit = y_pred_test.stack(['store_nbr', 'family']).reset_index()\n"
     ]
    }
   ],
   "source": [
    "print(y_pred_test.columns.tolist()[333])\n",
    "df_test = pd.read_csv(\n",
    "    comp_dir / 'test.csv',\n",
    "    dtype={\n",
    "        'store_nbr': 'category',\n",
    "        'family': 'category',\n",
    "        'onpromotion': 'uint32',\n",
    "    },\n",
    "    parse_dates=['date'],\n",
    "    infer_datetime_format=True,\n",
    ")\n",
    "y_submit = y_pred_test.stack(['store_nbr', 'family']).reset_index()\n",
    "y_submit = y_submit.rename(columns={0: 'sales'})\n",
    "y_submit = y_submit.join(df_test[['id']])  \n",
    "y_submit = y_submit.reindex(columns=['id','sales'])\n",
    "y_submit.to_csv('/Users/rishav/Downloads/submission.csv', index=False)\n",
    "\n"
   ]
  },
  {
   "cell_type": "code",
   "execution_count": null,
   "metadata": {},
   "outputs": [],
   "source": []
  },
  {
   "cell_type": "code",
   "execution_count": null,
   "metadata": {},
   "outputs": [],
   "source": []
  },
  {
   "cell_type": "code",
   "execution_count": null,
   "metadata": {},
   "outputs": [],
   "source": []
  },
  {
   "cell_type": "code",
   "execution_count": null,
   "metadata": {},
   "outputs": [],
   "source": []
  },
  {
   "cell_type": "code",
   "execution_count": null,
   "metadata": {},
   "outputs": [],
   "source": []
  }
 ],
 "metadata": {
  "kernelspec": {
   "display_name": "Python 3",
   "language": "python",
   "name": "python3"
  },
  "language_info": {
   "codemirror_mode": {
    "name": "ipython",
    "version": 3
   },
   "file_extension": ".py",
   "mimetype": "text/x-python",
   "name": "python",
   "nbconvert_exporter": "python",
   "pygments_lexer": "ipython3",
   "version": "3.9.6"
  }
 },
 "nbformat": 4,
 "nbformat_minor": 2
}
